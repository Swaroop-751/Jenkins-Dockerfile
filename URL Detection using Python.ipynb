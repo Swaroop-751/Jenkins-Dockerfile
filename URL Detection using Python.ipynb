{
 "cells": [
  {
   "cell_type": "markdown",
   "id": "efe4500b",
   "metadata": {},
   "source": [
    "# Malicious URL Detection using Machine Learning"
   ]
  },
  {
   "cell_type": "markdown",
   "id": "37dcb8e2",
   "metadata": {},
   "source": [
    "#### Importing the neccessary packages"
   ]
  },
  {
   "cell_type": "code",
   "execution_count": 21,
   "id": "8a6a4249",
   "metadata": {},
   "outputs": [],
   "source": [
    "import pandas as pd\n",
    "import numpy as np\n",
    "import random\n",
    "import matplotlib.pyplot as plt\n",
    "from matplotlib.pyplot import figure\n",
    "import seaborn as sns\n",
    "\n",
    "from sklearn.metrics import f1_score,accuracy_score\n",
    "from sklearn.preprocessing import LabelEncoder\n",
    "from sklearn.model_selection import cross_val_score\n",
    "from sklearn.tree import DecisionTreeClassifier\n",
    "from sklearn.ensemble import RandomForestClassifier\n",
    "from time import process_time\n",
    "from nltk.tokenize import RegexpTokenizer\n",
    "from sklearn.feature_extraction.text import CountVectorizer\n",
    "from sklearn.feature_extraction.text import TfidfVectorizer\n",
    "from sklearn.linear_model import LogisticRegression\n",
    "from sklearn.model_selection import train_test_split\n",
    "from sklearn.pipeline import make_pipeline\n",
    "from sklearn.metrics import confusion_matrix\n",
    "import pickle"
   ]
  },
  {
   "cell_type": "code",
   "execution_count": 22,
   "id": "af1cb1f2",
   "metadata": {},
   "outputs": [],
   "source": [
    "# Importing the datasets\n",
    "url_df_1 = pd.read_csv('malicious_phish(updated).csv')\n",
    "url_df_2 = pd.read_csv('phishing_site_urls1.csv')"
   ]
  },
  {
   "cell_type": "markdown",
   "id": "ea9005be",
   "metadata": {},
   "source": [
    "## Exploratory Data Analysis"
   ]
  },
  {
   "cell_type": "code",
   "execution_count": 23,
   "id": "cc43374f",
   "metadata": {},
   "outputs": [
    {
     "data": {
      "text/html": [
       "<div>\n",
       "<style scoped>\n",
       "    .dataframe tbody tr th:only-of-type {\n",
       "        vertical-align: middle;\n",
       "    }\n",
       "\n",
       "    .dataframe tbody tr th {\n",
       "        vertical-align: top;\n",
       "    }\n",
       "\n",
       "    .dataframe thead th {\n",
       "        text-align: right;\n",
       "    }\n",
       "</style>\n",
       "<table border=\"1\" class=\"dataframe\">\n",
       "  <thead>\n",
       "    <tr style=\"text-align: right;\">\n",
       "      <th></th>\n",
       "      <th>URL</th>\n",
       "      <th>Label</th>\n",
       "    </tr>\n",
       "  </thead>\n",
       "  <tbody>\n",
       "    <tr>\n",
       "      <th>0</th>\n",
       "      <td>br-icloud.com.br</td>\n",
       "      <td>bad</td>\n",
       "    </tr>\n",
       "    <tr>\n",
       "      <th>1</th>\n",
       "      <td>mp3raid.com/music/krizz_kaliko.html</td>\n",
       "      <td>good</td>\n",
       "    </tr>\n",
       "    <tr>\n",
       "      <th>2</th>\n",
       "      <td>bopsecrets.org/rexroth/cr/1.htm</td>\n",
       "      <td>good</td>\n",
       "    </tr>\n",
       "    <tr>\n",
       "      <th>3</th>\n",
       "      <td>http://www.garage-pirenne.be/index.php?option=...</td>\n",
       "      <td>bad</td>\n",
       "    </tr>\n",
       "    <tr>\n",
       "      <th>4</th>\n",
       "      <td>http://adventure-nicaragua.net/index.php?optio...</td>\n",
       "      <td>bad</td>\n",
       "    </tr>\n",
       "    <tr>\n",
       "      <th>5</th>\n",
       "      <td>http://buzzfil.net/m/show-art/ils-etaient-loin...</td>\n",
       "      <td>good</td>\n",
       "    </tr>\n",
       "    <tr>\n",
       "      <th>6</th>\n",
       "      <td>espn.go.com/nba/player/_/id/3457/brandon-rush</td>\n",
       "      <td>good</td>\n",
       "    </tr>\n",
       "    <tr>\n",
       "      <th>7</th>\n",
       "      <td>yourbittorrent.com/?q=anthony-hamilton-soulife</td>\n",
       "      <td>good</td>\n",
       "    </tr>\n",
       "    <tr>\n",
       "      <th>8</th>\n",
       "      <td>http://www.pashminaonline.com/pure-pashminas</td>\n",
       "      <td>bad</td>\n",
       "    </tr>\n",
       "    <tr>\n",
       "      <th>9</th>\n",
       "      <td>allmusic.com/album/crazy-from-the-heat-r16990</td>\n",
       "      <td>good</td>\n",
       "    </tr>\n",
       "  </tbody>\n",
       "</table>\n",
       "</div>"
      ],
      "text/plain": [
       "                                                 URL Label\n",
       "0                                   br-icloud.com.br   bad\n",
       "1                mp3raid.com/music/krizz_kaliko.html  good\n",
       "2                    bopsecrets.org/rexroth/cr/1.htm  good\n",
       "3  http://www.garage-pirenne.be/index.php?option=...   bad\n",
       "4  http://adventure-nicaragua.net/index.php?optio...   bad\n",
       "5  http://buzzfil.net/m/show-art/ils-etaient-loin...  good\n",
       "6      espn.go.com/nba/player/_/id/3457/brandon-rush  good\n",
       "7     yourbittorrent.com/?q=anthony-hamilton-soulife  good\n",
       "8       http://www.pashminaonline.com/pure-pashminas   bad\n",
       "9      allmusic.com/album/crazy-from-the-heat-r16990  good"
      ]
     },
     "execution_count": 23,
     "metadata": {},
     "output_type": "execute_result"
    }
   ],
   "source": [
    "url_df_1.head(10)"
   ]
  },
  {
   "cell_type": "code",
   "execution_count": 24,
   "id": "772acf0f",
   "metadata": {},
   "outputs": [
    {
     "data": {
      "text/html": [
       "<div>\n",
       "<style scoped>\n",
       "    .dataframe tbody tr th:only-of-type {\n",
       "        vertical-align: middle;\n",
       "    }\n",
       "\n",
       "    .dataframe tbody tr th {\n",
       "        vertical-align: top;\n",
       "    }\n",
       "\n",
       "    .dataframe thead th {\n",
       "        text-align: right;\n",
       "    }\n",
       "</style>\n",
       "<table border=\"1\" class=\"dataframe\">\n",
       "  <thead>\n",
       "    <tr style=\"text-align: right;\">\n",
       "      <th></th>\n",
       "      <th>URL</th>\n",
       "      <th>Label</th>\n",
       "    </tr>\n",
       "  </thead>\n",
       "  <tbody>\n",
       "    <tr>\n",
       "      <th>0</th>\n",
       "      <td>nobell.it/70ffb52d079109dca5664cce6f317373782/...</td>\n",
       "      <td>bad</td>\n",
       "    </tr>\n",
       "    <tr>\n",
       "      <th>1</th>\n",
       "      <td>www.dghjdgf.com/paypal.co.uk/cycgi-bin/webscrc...</td>\n",
       "      <td>bad</td>\n",
       "    </tr>\n",
       "    <tr>\n",
       "      <th>2</th>\n",
       "      <td>serviciosbys.com/paypal.cgi.bin.get-into.herf....</td>\n",
       "      <td>bad</td>\n",
       "    </tr>\n",
       "    <tr>\n",
       "      <th>3</th>\n",
       "      <td>mail.printakid.com/www.online.americanexpress....</td>\n",
       "      <td>bad</td>\n",
       "    </tr>\n",
       "    <tr>\n",
       "      <th>4</th>\n",
       "      <td>thewhiskeydregs.com/wp-content/themes/widescre...</td>\n",
       "      <td>bad</td>\n",
       "    </tr>\n",
       "    <tr>\n",
       "      <th>5</th>\n",
       "      <td>smilesvoegol.servebbs.org/voegol.php</td>\n",
       "      <td>bad</td>\n",
       "    </tr>\n",
       "    <tr>\n",
       "      <th>6</th>\n",
       "      <td>premierpaymentprocessing.com/includes/boleto-2...</td>\n",
       "      <td>bad</td>\n",
       "    </tr>\n",
       "    <tr>\n",
       "      <th>7</th>\n",
       "      <td>myxxxcollection.com/v1/js/jih321/bpd.com.do/do...</td>\n",
       "      <td>bad</td>\n",
       "    </tr>\n",
       "    <tr>\n",
       "      <th>8</th>\n",
       "      <td>super1000.info/docs</td>\n",
       "      <td>bad</td>\n",
       "    </tr>\n",
       "    <tr>\n",
       "      <th>9</th>\n",
       "      <td>horizonsgallery.com/js/bin/ssl1/_id/www.paypal...</td>\n",
       "      <td>bad</td>\n",
       "    </tr>\n",
       "  </tbody>\n",
       "</table>\n",
       "</div>"
      ],
      "text/plain": [
       "                                                 URL Label\n",
       "0  nobell.it/70ffb52d079109dca5664cce6f317373782/...   bad\n",
       "1  www.dghjdgf.com/paypal.co.uk/cycgi-bin/webscrc...   bad\n",
       "2  serviciosbys.com/paypal.cgi.bin.get-into.herf....   bad\n",
       "3  mail.printakid.com/www.online.americanexpress....   bad\n",
       "4  thewhiskeydregs.com/wp-content/themes/widescre...   bad\n",
       "5               smilesvoegol.servebbs.org/voegol.php   bad\n",
       "6  premierpaymentprocessing.com/includes/boleto-2...   bad\n",
       "7  myxxxcollection.com/v1/js/jih321/bpd.com.do/do...   bad\n",
       "8                                super1000.info/docs   bad\n",
       "9  horizonsgallery.com/js/bin/ssl1/_id/www.paypal...   bad"
      ]
     },
     "execution_count": 24,
     "metadata": {},
     "output_type": "execute_result"
    }
   ],
   "source": [
    "url_df_2.head(10)"
   ]
  },
  {
   "cell_type": "code",
   "execution_count": 25,
   "id": "2814796e",
   "metadata": {},
   "outputs": [
    {
     "name": "stdout",
     "output_type": "stream",
     "text": [
      "False\n",
      "False\n"
     ]
    }
   ],
   "source": [
    "# Checking for null values in the datasets\n",
    "print(url_df_1.isnull().values.any())\n",
    "print(url_df_2.isnull().values.any())\n",
    "\n",
    "\n",
    "#In case of null value we will fill the null values with mean: \n",
    "def dataImputation(data,key):\n",
    "    data = data.fillna(data[key].mean())\n",
    "    return data;"
   ]
  },
  {
   "cell_type": "markdown",
   "id": "070ccd9b",
   "metadata": {},
   "source": [
    "#### As we can see there aren't any null values in both the datasets, now we shall see the total number of entries in each dataset."
   ]
  },
  {
   "cell_type": "code",
   "execution_count": 26,
   "id": "9c404006",
   "metadata": {
    "scrolled": true
   },
   "outputs": [
    {
     "name": "stdout",
     "output_type": "stream",
     "text": [
      "(651191, 2)\n",
      "(549346, 2)\n",
      "1200537\n"
     ]
    }
   ],
   "source": [
    "# Total Entries in both datasets\n",
    "print(url_df_1.shape)\n",
    "print(url_df_2.shape)\n",
    "print(url_df_1['Label'].count() + url_df_2['Label'].count())"
   ]
  },
  {
   "cell_type": "markdown",
   "id": "9a326858",
   "metadata": {},
   "source": [
    "### Merging the two datasets"
   ]
  },
  {
   "cell_type": "code",
   "execution_count": 27,
   "id": "43aae5b0",
   "metadata": {},
   "outputs": [],
   "source": [
    "# Renaming the columns in the second dataset so that they match with the first one\n",
    "url_df_2 = url_df_2.rename(columns={'URL': 'URL', 'Label': 'Label'})\n",
    "# url_df = pd.merge(url_df_1, url_df_2)\n",
    "url_df = pd.concat([url_df_1,url_df_2]).drop_duplicates().reset_index(drop=True)"
   ]
  },
  {
   "cell_type": "code",
   "execution_count": 28,
   "id": "114f9ee8",
   "metadata": {},
   "outputs": [
    {
     "data": {
      "text/plain": [
       "(803556, 2)"
      ]
     },
     "execution_count": 28,
     "metadata": {},
     "output_type": "execute_result"
    }
   ],
   "source": [
    "url_df.shape"
   ]
  },
  {
   "cell_type": "markdown",
   "id": "21bda709",
   "metadata": {},
   "source": [
    "#### url_df is our main dataset and as we can see that there we many common values between the columns i.e. about 50% so now we are left with a total of about 5 lakh URLs to train our model with"
   ]
  },
  {
   "cell_type": "code",
   "execution_count": 29,
   "id": "78b025ea",
   "metadata": {},
   "outputs": [
    {
     "data": {
      "text/html": [
       "<div>\n",
       "<style scoped>\n",
       "    .dataframe tbody tr th:only-of-type {\n",
       "        vertical-align: middle;\n",
       "    }\n",
       "\n",
       "    .dataframe tbody tr th {\n",
       "        vertical-align: top;\n",
       "    }\n",
       "\n",
       "    .dataframe thead th {\n",
       "        text-align: right;\n",
       "    }\n",
       "</style>\n",
       "<table border=\"1\" class=\"dataframe\">\n",
       "  <thead>\n",
       "    <tr style=\"text-align: right;\">\n",
       "      <th></th>\n",
       "      <th>URL</th>\n",
       "      <th>Label</th>\n",
       "    </tr>\n",
       "  </thead>\n",
       "  <tbody>\n",
       "    <tr>\n",
       "      <th>count</th>\n",
       "      <td>803556</td>\n",
       "      <td>803556</td>\n",
       "    </tr>\n",
       "    <tr>\n",
       "      <th>unique</th>\n",
       "      <td>708867</td>\n",
       "      <td>2</td>\n",
       "    </tr>\n",
       "    <tr>\n",
       "      <th>top</th>\n",
       "      <td>skinami.co.kr/eng/</td>\n",
       "      <td>good</td>\n",
       "    </tr>\n",
       "    <tr>\n",
       "      <th>freq</th>\n",
       "      <td>2</td>\n",
       "      <td>476214</td>\n",
       "    </tr>\n",
       "  </tbody>\n",
       "</table>\n",
       "</div>"
      ],
      "text/plain": [
       "                       URL   Label\n",
       "count               803556  803556\n",
       "unique              708867       2\n",
       "top     skinami.co.kr/eng/    good\n",
       "freq                     2  476214"
      ]
     },
     "execution_count": 29,
     "metadata": {},
     "output_type": "execute_result"
    }
   ],
   "source": [
    "url_df.describe()"
   ]
  },
  {
   "cell_type": "code",
   "execution_count": 30,
   "id": "06a342d5",
   "metadata": {},
   "outputs": [
    {
     "name": "stdout",
     "output_type": "stream",
     "text": [
      "<class 'pandas.core.frame.DataFrame'>\n",
      "RangeIndex: 803556 entries, 0 to 803555\n",
      "Data columns (total 2 columns):\n",
      " #   Column  Non-Null Count   Dtype \n",
      "---  ------  --------------   ----- \n",
      " 0   URL     803556 non-null  object\n",
      " 1   Label   803556 non-null  object\n",
      "dtypes: object(2)\n",
      "memory usage: 12.3+ MB\n"
     ]
    }
   ],
   "source": [
    "url_df.info()"
   ]
  },
  {
   "cell_type": "code",
   "execution_count": 31,
   "id": "87f8e4df",
   "metadata": {},
   "outputs": [
    {
     "name": "stdout",
     "output_type": "stream",
     "text": [
      "The number of good URLs in the dataset is: 476214\n",
      "The number of bad URLs in the dataset is: 327342\n"
     ]
    },
    {
     "data": {
      "image/png": "[encoded data removed]",
      "text/plain": [
       "<Figure size 800x600 with 1 Axes>"
      ]
     },
     "metadata": {},
     "output_type": "display_data"
    }
   ],
   "source": [
    "# Visualising our data\n",
    "\n",
    "figure(figsize=(8, 6))\n",
    "print(f\"The number of good URLs in the dataset is: {url_df['Label'].where(url_df['Label'] == 'good').count()}\")\n",
    "print(f\"The number of bad URLs in the dataset is: {url_df['Label'].where(url_df['Label'] == 'bad').count()}\")\n",
    "plot = sns.barplot(x = ['Good', 'Bad'], y = url_df['Label'].value_counts())\n",
    "plot.set(xlabel='Type', ylabel='Count')\n",
    "plt.show();"
   ]
  },
  {
   "cell_type": "markdown",
   "id": "baf940c0",
   "metadata": {},
   "source": [
    "We can see that the number of Good URLs is far more than Bad URLs in our dataset and that makes our data <b>imbalanced</b> we can try resampling to solve this particular issue."
   ]
  },
  {
   "cell_type": "code",
   "execution_count": 32,
   "id": "3de08e4c",
   "metadata": {},
   "outputs": [],
   "source": [
    "good_urls = url_df[url_df['Label'] == 'good']\n",
    "bad_urls = url_df[url_df['Label'] == 'bad']"
   ]
  },
  {
   "cell_type": "code",
   "execution_count": 33,
   "id": "6a99b295",
   "metadata": {},
   "outputs": [
    {
     "data": {
      "text/html": [
       "<div>\n",
       "<style scoped>\n",
       "    .dataframe tbody tr th:only-of-type {\n",
       "        vertical-align: middle;\n",
       "    }\n",
       "\n",
       "    .dataframe tbody tr th {\n",
       "        vertical-align: top;\n",
       "    }\n",
       "\n",
       "    .dataframe thead th {\n",
       "        text-align: right;\n",
       "    }\n",
       "</style>\n",
       "<table border=\"1\" class=\"dataframe\">\n",
       "  <thead>\n",
       "    <tr style=\"text-align: right;\">\n",
       "      <th></th>\n",
       "      <th>URL</th>\n",
       "      <th>Label</th>\n",
       "    </tr>\n",
       "  </thead>\n",
       "  <tbody>\n",
       "    <tr>\n",
       "      <th>1</th>\n",
       "      <td>mp3raid.com/music/krizz_kaliko.html</td>\n",
       "      <td>good</td>\n",
       "    </tr>\n",
       "    <tr>\n",
       "      <th>2</th>\n",
       "      <td>bopsecrets.org/rexroth/cr/1.htm</td>\n",
       "      <td>good</td>\n",
       "    </tr>\n",
       "    <tr>\n",
       "      <th>5</th>\n",
       "      <td>http://buzzfil.net/m/show-art/ils-etaient-loin...</td>\n",
       "      <td>good</td>\n",
       "    </tr>\n",
       "    <tr>\n",
       "      <th>6</th>\n",
       "      <td>espn.go.com/nba/player/_/id/3457/brandon-rush</td>\n",
       "      <td>good</td>\n",
       "    </tr>\n",
       "    <tr>\n",
       "      <th>7</th>\n",
       "      <td>yourbittorrent.com/?q=anthony-hamilton-soulife</td>\n",
       "      <td>good</td>\n",
       "    </tr>\n",
       "    <tr>\n",
       "      <th>9</th>\n",
       "      <td>allmusic.com/album/crazy-from-the-heat-r16990</td>\n",
       "      <td>good</td>\n",
       "    </tr>\n",
       "    <tr>\n",
       "      <th>10</th>\n",
       "      <td>corporationwiki.com/Ohio/Columbus/frank-s-bens...</td>\n",
       "      <td>good</td>\n",
       "    </tr>\n",
       "    <tr>\n",
       "      <th>12</th>\n",
       "      <td>myspace.com/video/vid/30602581</td>\n",
       "      <td>good</td>\n",
       "    </tr>\n",
       "    <tr>\n",
       "      <th>16</th>\n",
       "      <td>quickfacts.census.gov/qfd/maps/iowa_map.html</td>\n",
       "      <td>good</td>\n",
       "    </tr>\n",
       "    <tr>\n",
       "      <th>17</th>\n",
       "      <td>nugget.ca/ArticleDisplay.aspx?archive=true&amp;e=1...</td>\n",
       "      <td>good</td>\n",
       "    </tr>\n",
       "  </tbody>\n",
       "</table>\n",
       "</div>"
      ],
      "text/plain": [
       "                                                  URL Label\n",
       "1                 mp3raid.com/music/krizz_kaliko.html  good\n",
       "2                     bopsecrets.org/rexroth/cr/1.htm  good\n",
       "5   http://buzzfil.net/m/show-art/ils-etaient-loin...  good\n",
       "6       espn.go.com/nba/player/_/id/3457/brandon-rush  good\n",
       "7      yourbittorrent.com/?q=anthony-hamilton-soulife  good\n",
       "9       allmusic.com/album/crazy-from-the-heat-r16990  good\n",
       "10  corporationwiki.com/Ohio/Columbus/frank-s-bens...  good\n",
       "12                     myspace.com/video/vid/30602581  good\n",
       "16       quickfacts.census.gov/qfd/maps/iowa_map.html  good\n",
       "17  nugget.ca/ArticleDisplay.aspx?archive=true&e=1...  good"
      ]
     },
     "execution_count": 33,
     "metadata": {},
     "output_type": "execute_result"
    }
   ],
   "source": [
    "good_urls.head(10)"
   ]
  },
  {
   "cell_type": "code",
   "execution_count": 34,
   "id": "79176d5c",
   "metadata": {},
   "outputs": [
    {
     "data": {
      "text/html": [
       "<div>\n",
       "<style scoped>\n",
       "    .dataframe tbody tr th:only-of-type {\n",
       "        vertical-align: middle;\n",
       "    }\n",
       "\n",
       "    .dataframe tbody tr th {\n",
       "        vertical-align: top;\n",
       "    }\n",
       "\n",
       "    .dataframe thead th {\n",
       "        text-align: right;\n",
       "    }\n",
       "</style>\n",
       "<table border=\"1\" class=\"dataframe\">\n",
       "  <thead>\n",
       "    <tr style=\"text-align: right;\">\n",
       "      <th></th>\n",
       "      <th>URL</th>\n",
       "      <th>Label</th>\n",
       "    </tr>\n",
       "  </thead>\n",
       "  <tbody>\n",
       "    <tr>\n",
       "      <th>0</th>\n",
       "      <td>br-icloud.com.br</td>\n",
       "      <td>bad</td>\n",
       "    </tr>\n",
       "    <tr>\n",
       "      <th>3</th>\n",
       "      <td>http://www.garage-pirenne.be/index.php?option=...</td>\n",
       "      <td>bad</td>\n",
       "    </tr>\n",
       "    <tr>\n",
       "      <th>4</th>\n",
       "      <td>http://adventure-nicaragua.net/index.php?optio...</td>\n",
       "      <td>bad</td>\n",
       "    </tr>\n",
       "    <tr>\n",
       "      <th>8</th>\n",
       "      <td>http://www.pashminaonline.com/pure-pashminas</td>\n",
       "      <td>bad</td>\n",
       "    </tr>\n",
       "    <tr>\n",
       "      <th>11</th>\n",
       "      <td>http://www.ikenmijnkunst.nl/index.php/expositi...</td>\n",
       "      <td>bad</td>\n",
       "    </tr>\n",
       "    <tr>\n",
       "      <th>13</th>\n",
       "      <td>http://www.lebensmittel-ueberwachung.de/index....</td>\n",
       "      <td>bad</td>\n",
       "    </tr>\n",
       "    <tr>\n",
       "      <th>14</th>\n",
       "      <td>http://www.szabadmunkaero.hu/cimoldal.html?sta...</td>\n",
       "      <td>bad</td>\n",
       "    </tr>\n",
       "    <tr>\n",
       "      <th>15</th>\n",
       "      <td>http://larcadelcarnevale.com/catalogo/palloncini</td>\n",
       "      <td>bad</td>\n",
       "    </tr>\n",
       "    <tr>\n",
       "      <th>19</th>\n",
       "      <td>http://www.vnic.co/khach-hang.html</td>\n",
       "      <td>bad</td>\n",
       "    </tr>\n",
       "    <tr>\n",
       "      <th>21</th>\n",
       "      <td>signin.eby.de.zukruygxctzmmqi.civpro.co.za</td>\n",
       "      <td>bad</td>\n",
       "    </tr>\n",
       "  </tbody>\n",
       "</table>\n",
       "</div>"
      ],
      "text/plain": [
       "                                                  URL Label\n",
       "0                                    br-icloud.com.br   bad\n",
       "3   http://www.garage-pirenne.be/index.php?option=...   bad\n",
       "4   http://adventure-nicaragua.net/index.php?optio...   bad\n",
       "8        http://www.pashminaonline.com/pure-pashminas   bad\n",
       "11  http://www.ikenmijnkunst.nl/index.php/expositi...   bad\n",
       "13  http://www.lebensmittel-ueberwachung.de/index....   bad\n",
       "14  http://www.szabadmunkaero.hu/cimoldal.html?sta...   bad\n",
       "15   http://larcadelcarnevale.com/catalogo/palloncini   bad\n",
       "19                 http://www.vnic.co/khach-hang.html   bad\n",
       "21         signin.eby.de.zukruygxctzmmqi.civpro.co.za   bad"
      ]
     },
     "execution_count": 34,
     "metadata": {},
     "output_type": "execute_result"
    }
   ],
   "source": [
    "bad_urls.head(10)"
   ]
  },
  {
   "cell_type": "markdown",
   "id": "3f570fdf",
   "metadata": {},
   "source": [
    "## Data Preprocessing\n",
    "We have now succesfully merged our datasets and got one unified one, we can see that our independent feature is the name of the URL, that opens a lot of ways to deal with as an NLP task. \n"
   ]
  },
  {
   "cell_type": "code",
   "execution_count": 35,
   "id": "bc4179de",
   "metadata": {},
   "outputs": [
    {
     "data": {
      "text/html": [
       "<div>\n",
       "<style scoped>\n",
       "    .dataframe tbody tr th:only-of-type {\n",
       "        vertical-align: middle;\n",
       "    }\n",
       "\n",
       "    .dataframe tbody tr th {\n",
       "        vertical-align: top;\n",
       "    }\n",
       "\n",
       "    .dataframe thead th {\n",
       "        text-align: right;\n",
       "    }\n",
       "</style>\n",
       "<table border=\"1\" class=\"dataframe\">\n",
       "  <thead>\n",
       "    <tr style=\"text-align: right;\">\n",
       "      <th></th>\n",
       "      <th>URL</th>\n",
       "      <th>Label</th>\n",
       "    </tr>\n",
       "  </thead>\n",
       "  <tbody>\n",
       "    <tr>\n",
       "      <th>673146</th>\n",
       "      <td>www.sppk.ac.th/garden/tmp/https:/ /bb.com.br'</td>\n",
       "      <td>bad</td>\n",
       "    </tr>\n",
       "    <tr>\n",
       "      <th>376357</th>\n",
       "      <td>http://www.schoolvoorontwikkeling.nl/component...</td>\n",
       "      <td>bad</td>\n",
       "    </tr>\n",
       "    <tr>\n",
       "      <th>562961</th>\n",
       "      <td>bizarrefx.com/bfx/shiratech/tmp/es/eby.html</td>\n",
       "      <td>good</td>\n",
       "    </tr>\n",
       "    <tr>\n",
       "      <th>456518</th>\n",
       "      <td>peanutallergy.com/boards/humpty-dumpty-potato-...</td>\n",
       "      <td>good</td>\n",
       "    </tr>\n",
       "    <tr>\n",
       "      <th>207616</th>\n",
       "      <td>http://www.wed-club.ru/feed/rss.html</td>\n",
       "      <td>bad</td>\n",
       "    </tr>\n",
       "    <tr>\n",
       "      <th>450497</th>\n",
       "      <td>repair-service.com.ua</td>\n",
       "      <td>bad</td>\n",
       "    </tr>\n",
       "    <tr>\n",
       "      <th>283645</th>\n",
       "      <td>english.turkcebilgi.com/Benjamin+Harrison</td>\n",
       "      <td>good</td>\n",
       "    </tr>\n",
       "    <tr>\n",
       "      <th>302222</th>\n",
       "      <td>orthodoxchristianity.net/forum/index.php?topic...</td>\n",
       "      <td>good</td>\n",
       "    </tr>\n",
       "    <tr>\n",
       "      <th>727962</th>\n",
       "      <td>home.comcast.net/~SupportCD/OptimizeXP.html</td>\n",
       "      <td>good</td>\n",
       "    </tr>\n",
       "    <tr>\n",
       "      <th>597176</th>\n",
       "      <td>www.uniquip.com/components.html</td>\n",
       "      <td>bad</td>\n",
       "    </tr>\n",
       "    <tr>\n",
       "      <th>732209</th>\n",
       "      <td>www.twilightcreationsinc.com/allwoundup/</td>\n",
       "      <td>good</td>\n",
       "    </tr>\n",
       "    <tr>\n",
       "      <th>89305</th>\n",
       "      <td>askart.com/AskART/G/clarence_alphonse_gagnon/c...</td>\n",
       "      <td>good</td>\n",
       "    </tr>\n",
       "    <tr>\n",
       "      <th>801999</th>\n",
       "      <td>198.46.224.101/bins.sh</td>\n",
       "      <td>bad</td>\n",
       "    </tr>\n",
       "    <tr>\n",
       "      <th>299333</th>\n",
       "      <td>http://www.bsc-md.de/index.php?option=com_cont...</td>\n",
       "      <td>bad</td>\n",
       "    </tr>\n",
       "    <tr>\n",
       "      <th>36742</th>\n",
       "      <td>au.linkedin.com/pub/adrian-fisher/14/957/720</td>\n",
       "      <td>good</td>\n",
       "    </tr>\n",
       "    <tr>\n",
       "      <th>434270</th>\n",
       "      <td>4icu.org/reviews/6323.htm</td>\n",
       "      <td>good</td>\n",
       "    </tr>\n",
       "    <tr>\n",
       "      <th>101442</th>\n",
       "      <td>123people.co.uk/s/hayley+musgrove</td>\n",
       "      <td>good</td>\n",
       "    </tr>\n",
       "    <tr>\n",
       "      <th>441858</th>\n",
       "      <td>uk.ask.com/wiki/U.S._Route_97_in_Oregon</td>\n",
       "      <td>good</td>\n",
       "    </tr>\n",
       "    <tr>\n",
       "      <th>720813</th>\n",
       "      <td>www.sgi.com/support/security/</td>\n",
       "      <td>good</td>\n",
       "    </tr>\n",
       "    <tr>\n",
       "      <th>271551</th>\n",
       "      <td>netglimse.com/celebs/pages/john_wayne/index.shtml</td>\n",
       "      <td>good</td>\n",
       "    </tr>\n",
       "  </tbody>\n",
       "</table>\n",
       "</div>"
      ],
      "text/plain": [
       "                                                      URL Label\n",
       "673146      www.sppk.ac.th/garden/tmp/https:/ /bb.com.br'   bad\n",
       "376357  http://www.schoolvoorontwikkeling.nl/component...   bad\n",
       "562961        bizarrefx.com/bfx/shiratech/tmp/es/eby.html  good\n",
       "456518  peanutallergy.com/boards/humpty-dumpty-potato-...  good\n",
       "207616               http://www.wed-club.ru/feed/rss.html   bad\n",
       "450497                              repair-service.com.ua   bad\n",
       "283645          english.turkcebilgi.com/Benjamin+Harrison  good\n",
       "302222  orthodoxchristianity.net/forum/index.php?topic...  good\n",
       "727962        home.comcast.net/~SupportCD/OptimizeXP.html  good\n",
       "597176                    www.uniquip.com/components.html   bad\n",
       "732209           www.twilightcreationsinc.com/allwoundup/  good\n",
       "89305   askart.com/AskART/G/clarence_alphonse_gagnon/c...  good\n",
       "801999                             198.46.224.101/bins.sh   bad\n",
       "299333  http://www.bsc-md.de/index.php?option=com_cont...   bad\n",
       "36742        au.linkedin.com/pub/adrian-fisher/14/957/720  good\n",
       "434270                          4icu.org/reviews/6323.htm  good\n",
       "101442                  123people.co.uk/s/hayley+musgrove  good\n",
       "441858            uk.ask.com/wiki/U.S._Route_97_in_Oregon  good\n",
       "720813                      www.sgi.com/support/security/  good\n",
       "271551  netglimse.com/celebs/pages/john_wayne/index.shtml  good"
      ]
     },
     "execution_count": 35,
     "metadata": {},
     "output_type": "execute_result"
    }
   ],
   "source": [
    "url_df.sample(20)"
   ]
  },
  {
   "cell_type": "markdown",
   "id": "24ab4e76",
   "metadata": {},
   "source": [
    "#### Taking a quick look at the sample of our dataset we can see there are a lot of redundant things in our URL like '/ ',  ' : ',  ' . ', etc. these symbols are not neccessary for us. Further in the project we will be using TD-IDF Vectorizer to give scores to these URLs based on their lexical features. It will be a good if we will extract these words from the URL and remove all the redundant characters from it.\n"
   ]
  },
  {
   "cell_type": "markdown",
   "id": "fd957155",
   "metadata": {},
   "source": [
    "<ul>\n",
    "<li>To do this operation we used Regexp Tokenizer. What it does is that it splits the string using a regular express that we pass and we get the list of words that we need for our analysis. </li>\n",
    "    <li>According to the documentation: \"A <b>RegexpTokenizer</b> splits a string into substrings using a regular expression.\"\n",
    "    </ul>"
   ]
  },
  {
   "cell_type": "code",
   "execution_count": 41,
   "id": "ef6a5f1b",
   "metadata": {},
   "outputs": [],
   "source": [
    "tknizer = RegexpTokenizer(r'[A-Za-z]+')"
   ]
  },
  {
   "cell_type": "code",
   "execution_count": 40,
   "id": "2f51c475",
   "metadata": {},
   "outputs": [
    {
     "data": {
      "text/plain": [
       "['http',\n",
       " 'localhost',\n",
       " 'notebooks',\n",
       " 'Documents',\n",
       " 'Malicious',\n",
       " 'URL',\n",
       " 'Detection',\n",
       " 'URL',\n",
       " 'Detection',\n",
       " 'using',\n",
       " 'Python',\n",
       " 'ipynb']"
      ]
     },
     "execution_count": 40,
     "metadata": {},
     "output_type": "execute_result"
    }
   ],
   "source": [
    "#Testing on a random URL\n",
    "tknizer.tokenize('http://localhost:8888/notebooks/Documents/Malicious%20URL%20Detection/URL%20Detection%20using%20Python.ipynb')"
   ]
  },
  {
   "cell_type": "markdown",
   "id": "41420ed6",
   "metadata": {},
   "source": [
    "Defining a small function to form a new column in our dataframe that contains the tokenized URLs "
   ]
  },
  {
   "cell_type": "code",
   "execution_count": 42,
   "id": "53be6982",
   "metadata": {},
   "outputs": [
    {
     "name": "stdout",
     "output_type": "stream",
     "text": [
      "Starting the process to tokenize the URLs...\n",
      "Process Finished! and took 7.859375s\n"
     ]
    }
   ],
   "source": [
    "def tokenizeUrl(url):\n",
    "    return tknizer.tokenize(url)\n",
    "\n",
    "start = process_time()\n",
    "print('Starting the process to tokenize the URLs...')\n",
    "\n",
    "# Creating a new column in our dataframe that keeps the tokenized form of the URLs\n",
    "url_df['tokenized_url'] = url_df.URL.map(tokenizeUrl)\n",
    "end = process_time()\n",
    "print(f'Process Finished! and took {end - start}s')"
   ]
  },
  {
   "cell_type": "code",
   "execution_count": 43,
   "id": "fb6baa2b",
   "metadata": {},
   "outputs": [
    {
     "data": {
      "text/html": [
       "<div>\n",
       "<style scoped>\n",
       "    .dataframe tbody tr th:only-of-type {\n",
       "        vertical-align: middle;\n",
       "    }\n",
       "\n",
       "    .dataframe tbody tr th {\n",
       "        vertical-align: top;\n",
       "    }\n",
       "\n",
       "    .dataframe thead th {\n",
       "        text-align: right;\n",
       "    }\n",
       "</style>\n",
       "<table border=\"1\" class=\"dataframe\">\n",
       "  <thead>\n",
       "    <tr style=\"text-align: right;\">\n",
       "      <th></th>\n",
       "      <th>URL</th>\n",
       "      <th>Label</th>\n",
       "      <th>tokenized_url</th>\n",
       "    </tr>\n",
       "  </thead>\n",
       "  <tbody>\n",
       "    <tr>\n",
       "      <th>0</th>\n",
       "      <td>br-icloud.com.br</td>\n",
       "      <td>bad</td>\n",
       "      <td>[br, icloud, com, br]</td>\n",
       "    </tr>\n",
       "    <tr>\n",
       "      <th>1</th>\n",
       "      <td>mp3raid.com/music/krizz_kaliko.html</td>\n",
       "      <td>good</td>\n",
       "      <td>[mp, raid, com, music, krizz, kaliko, html]</td>\n",
       "    </tr>\n",
       "    <tr>\n",
       "      <th>2</th>\n",
       "      <td>bopsecrets.org/rexroth/cr/1.htm</td>\n",
       "      <td>good</td>\n",
       "      <td>[bopsecrets, org, rexroth, cr, htm]</td>\n",
       "    </tr>\n",
       "    <tr>\n",
       "      <th>3</th>\n",
       "      <td>http://www.garage-pirenne.be/index.php?option=...</td>\n",
       "      <td>bad</td>\n",
       "      <td>[http, www, garage, pirenne, be, index, php, o...</td>\n",
       "    </tr>\n",
       "    <tr>\n",
       "      <th>4</th>\n",
       "      <td>http://adventure-nicaragua.net/index.php?optio...</td>\n",
       "      <td>bad</td>\n",
       "      <td>[http, adventure, nicaragua, net, index, php, ...</td>\n",
       "    </tr>\n",
       "  </tbody>\n",
       "</table>\n",
       "</div>"
      ],
      "text/plain": [
       "                                                 URL Label  \\\n",
       "0                                   br-icloud.com.br   bad   \n",
       "1                mp3raid.com/music/krizz_kaliko.html  good   \n",
       "2                    bopsecrets.org/rexroth/cr/1.htm  good   \n",
       "3  http://www.garage-pirenne.be/index.php?option=...   bad   \n",
       "4  http://adventure-nicaragua.net/index.php?optio...   bad   \n",
       "\n",
       "                                       tokenized_url  \n",
       "0                              [br, icloud, com, br]  \n",
       "1        [mp, raid, com, music, krizz, kaliko, html]  \n",
       "2                [bopsecrets, org, rexroth, cr, htm]  \n",
       "3  [http, www, garage, pirenne, be, index, php, o...  \n",
       "4  [http, adventure, nicaragua, net, index, php, ...  "
      ]
     },
     "execution_count": 43,
     "metadata": {},
     "output_type": "execute_result"
    }
   ],
   "source": [
    "url_df.head(5)"
   ]
  },
  {
   "cell_type": "markdown",
   "id": "e83e050e",
   "metadata": {},
   "source": [
    "We only need the words of the URL not the commas that are seperating them in the list so we will define a function that removes the commas and append that as a new column \n",
    "in our Dataframe."
   ]
  },
  {
   "cell_type": "code",
   "execution_count": 44,
   "id": "39df4418",
   "metadata": {},
   "outputs": [],
   "source": [
    "def clean_token(token):\n",
    "    return ' '.join(token);\n",
    "\n",
    "url_df['tokenized_url_cleaned'] = url_df['tokenized_url'].map(clean_token)"
   ]
  },
  {
   "cell_type": "code",
   "execution_count": 45,
   "id": "68fa2c71",
   "metadata": {},
   "outputs": [
    {
     "data": {
      "text/html": [
       "<div>\n",
       "<style scoped>\n",
       "    .dataframe tbody tr th:only-of-type {\n",
       "        vertical-align: middle;\n",
       "    }\n",
       "\n",
       "    .dataframe tbody tr th {\n",
       "        vertical-align: top;\n",
       "    }\n",
       "\n",
       "    .dataframe thead th {\n",
       "        text-align: right;\n",
       "    }\n",
       "</style>\n",
       "<table border=\"1\" class=\"dataframe\">\n",
       "  <thead>\n",
       "    <tr style=\"text-align: right;\">\n",
       "      <th></th>\n",
       "      <th>URL</th>\n",
       "      <th>Label</th>\n",
       "      <th>tokenized_url</th>\n",
       "      <th>tokenized_url_cleaned</th>\n",
       "    </tr>\n",
       "  </thead>\n",
       "  <tbody>\n",
       "    <tr>\n",
       "      <th>440691</th>\n",
       "      <td>http://tanzaniawerkgroeptilburg.nl/en/water-en...</td>\n",
       "      <td>bad</td>\n",
       "      <td>[http, tanzaniawerkgroeptilburg, nl, en, water...</td>\n",
       "      <td>http tanzaniawerkgroeptilburg nl en water en v...</td>\n",
       "    </tr>\n",
       "    <tr>\n",
       "      <th>614992</th>\n",
       "      <td>www.droittech.com/frontpage_2002_server_extens...</td>\n",
       "      <td>bad</td>\n",
       "      <td>[www, droittech, com, frontpage, server, exten...</td>\n",
       "      <td>www droittech com frontpage server extensions htm</td>\n",
       "    </tr>\n",
       "    <tr>\n",
       "      <th>449369</th>\n",
       "      <td>dvbs.eu.org/antigona/</td>\n",
       "      <td>good</td>\n",
       "      <td>[dvbs, eu, org, antigona]</td>\n",
       "      <td>dvbs eu org antigona</td>\n",
       "    </tr>\n",
       "    <tr>\n",
       "      <th>142467</th>\n",
       "      <td>answers.yahoo.com/question/index?qid=200912172...</td>\n",
       "      <td>good</td>\n",
       "      <td>[answers, yahoo, com, question, index, qid, AA...</td>\n",
       "      <td>answers yahoo com question index qid AAGjPXY</td>\n",
       "    </tr>\n",
       "    <tr>\n",
       "      <th>697217</th>\n",
       "      <td>www.scottishfibres.co.uk/acatalog/Education.html</td>\n",
       "      <td>good</td>\n",
       "      <td>[www, scottishfibres, co, uk, acatalog, Educat...</td>\n",
       "      <td>www scottishfibres co uk acatalog Education html</td>\n",
       "    </tr>\n",
       "    <tr>\n",
       "      <th>652189</th>\n",
       "      <td>postalnx.com/cache/https/pay=pal.com/fr/dfjdsb...</td>\n",
       "      <td>bad</td>\n",
       "      <td>[postalnx, com, cache, https, pay, pal, com, f...</td>\n",
       "      <td>postalnx com cache https pay pal com fr dfjdsb...</td>\n",
       "    </tr>\n",
       "    <tr>\n",
       "      <th>451503</th>\n",
       "      <td>ca.linkedin.com/pub/steve-anthony/16/714/388</td>\n",
       "      <td>good</td>\n",
       "      <td>[ca, linkedin, com, pub, steve, anthony]</td>\n",
       "      <td>ca linkedin com pub steve anthony</td>\n",
       "    </tr>\n",
       "    <tr>\n",
       "      <th>368960</th>\n",
       "      <td>bulldogfootballalumni.com/history.html</td>\n",
       "      <td>good</td>\n",
       "      <td>[bulldogfootballalumni, com, history, html]</td>\n",
       "      <td>bulldogfootballalumni com history html</td>\n",
       "    </tr>\n",
       "    <tr>\n",
       "      <th>75932</th>\n",
       "      <td>teinenjoy.com</td>\n",
       "      <td>bad</td>\n",
       "      <td>[teinenjoy, com]</td>\n",
       "      <td>teinenjoy com</td>\n",
       "    </tr>\n",
       "    <tr>\n",
       "      <th>27704</th>\n",
       "      <td>businessesfortheboreal.com/</td>\n",
       "      <td>good</td>\n",
       "      <td>[businessesfortheboreal, com]</td>\n",
       "      <td>businessesfortheboreal com</td>\n",
       "    </tr>\n",
       "  </tbody>\n",
       "</table>\n",
       "</div>"
      ],
      "text/plain": [
       "                                                      URL Label  \\\n",
       "440691  http://tanzaniawerkgroeptilburg.nl/en/water-en...   bad   \n",
       "614992  www.droittech.com/frontpage_2002_server_extens...   bad   \n",
       "449369                              dvbs.eu.org/antigona/  good   \n",
       "142467  answers.yahoo.com/question/index?qid=200912172...  good   \n",
       "697217   www.scottishfibres.co.uk/acatalog/Education.html  good   \n",
       "652189  postalnx.com/cache/https/pay=pal.com/fr/dfjdsb...   bad   \n",
       "451503       ca.linkedin.com/pub/steve-anthony/16/714/388  good   \n",
       "368960             bulldogfootballalumni.com/history.html  good   \n",
       "75932                                       teinenjoy.com   bad   \n",
       "27704                         businessesfortheboreal.com/  good   \n",
       "\n",
       "                                            tokenized_url  \\\n",
       "440691  [http, tanzaniawerkgroeptilburg, nl, en, water...   \n",
       "614992  [www, droittech, com, frontpage, server, exten...   \n",
       "449369                          [dvbs, eu, org, antigona]   \n",
       "142467  [answers, yahoo, com, question, index, qid, AA...   \n",
       "697217  [www, scottishfibres, co, uk, acatalog, Educat...   \n",
       "652189  [postalnx, com, cache, https, pay, pal, com, f...   \n",
       "451503           [ca, linkedin, com, pub, steve, anthony]   \n",
       "368960        [bulldogfootballalumni, com, history, html]   \n",
       "75932                                    [teinenjoy, com]   \n",
       "27704                       [businessesfortheboreal, com]   \n",
       "\n",
       "                                    tokenized_url_cleaned  \n",
       "440691  http tanzaniawerkgroeptilburg nl en water en v...  \n",
       "614992  www droittech com frontpage server extensions htm  \n",
       "449369                               dvbs eu org antigona  \n",
       "142467       answers yahoo com question index qid AAGjPXY  \n",
       "697217   www scottishfibres co uk acatalog Education html  \n",
       "652189  postalnx com cache https pay pal com fr dfjdsb...  \n",
       "451503                  ca linkedin com pub steve anthony  \n",
       "368960             bulldogfootballalumni com history html  \n",
       "75932                                       teinenjoy com  \n",
       "27704                          businessesfortheboreal com  "
      ]
     },
     "execution_count": 45,
     "metadata": {},
     "output_type": "execute_result"
    }
   ],
   "source": [
    "url_df.sample(10)"
   ]
  },
  {
   "cell_type": "markdown",
   "id": "474d9251",
   "metadata": {},
   "source": [
    "## TF-IDF Vectorizer\n",
    "We are using TF-IDF algorithm to transform our tokenized_urls into numerical representation that we further use in our Machine learning algorithm to make predictions. \n",
    "\n",
    "<br>\n",
    "\n",
    "<b> What does TF-IDF vectorizer do? </b>\n",
    "\n",
    "\n",
    "<br>\n",
    "What it does is that it first calculates the term frequency i.e.\n",
    "    \n",
    "<br><b>Term Frequency</b>:  (Number of repetions of particular word in sentence)/(Number of words in sentence)\n",
    "\n",
    "<br>\n",
    "Then it calculates the Inverse document frequency i.e.\n",
    "\n",
    "<br><b>IDF:</b> log((No. of sentences)/(No. of sentences containing that word))\n",
    "\n",
    "<br> In the final step it multiplies TF and IDF and assigns that value to the word\n",
    "    "
   ]
  },
  {
   "cell_type": "code",
   "execution_count": 46,
   "id": "fee651eb",
   "metadata": {},
   "outputs": [
    {
     "name": "stdout",
     "output_type": "stream",
     "text": [
      "Vectorizing URLs...\n",
      "Task Complete! and took 19.296875s\n"
     ]
    }
   ],
   "source": [
    "vectorizer = TfidfVectorizer();\n",
    "\n",
    "start = process_time()\n",
    "print('Vectorizing URLs...')\n",
    "url_names = vectorizer.fit_transform(url_df.tokenized_url_cleaned)\n",
    "end = process_time()\n",
    "print(f'Task Complete! and took {end - start}s')"
   ]
  },
  {
   "cell_type": "code",
   "execution_count": 47,
   "id": "163bf2ba",
   "metadata": {},
   "outputs": [
    {
     "name": "stdout",
     "output_type": "stream",
     "text": [
      "  (0, 78454)\t0.09984187926533417\n",
      "  (0, 184972)\t0.6841756490486686\n",
      "  (0, 50592)\t0.7224508844160963\n",
      "  (1, 181450)\t0.1350875275759369\n",
      "  (1, 211580)\t0.5323010326975836\n",
      "  (1, 221993)\t0.5323010326975836\n",
      "  (1, 269017)\t0.30173496519588716\n",
      "  (1, 332050)\t0.4454899748921025\n",
      "  (1, 265613)\t0.3474234752260673\n",
      "  (1, 78454)\t0.06967211050560601\n",
      "  (2, 181439)\t0.1747117798899724\n",
      "  (2, 85151)\t0.38993566856543926\n",
      "  (2, 340379)\t0.6198092172825607\n",
      "  (2, 296506)\t0.16022805923917205\n",
      "  (2, 49043)\t0.6384273424220878\n",
      "  (3, 430413)\t0.4125071924211812\n",
      "  (3, 185287)\t0.17812305837782527\n",
      "  (3, 23139)\t0.21238551211777829\n",
      "  (3, 425579)\t0.19348858092011584\n",
      "  (3, 81458)\t0.1972005511049724\n",
      "  (3, 295828)\t0.19357808297157011\n",
      "  (3, 310186)\t0.14325306700936677\n",
      "  (3, 189898)\t0.1495597960529205\n",
      "  (3, 36450)\t0.2790958966479347\n",
      "  (3, 311785)\t0.5253854427827415\n",
      "  :\t:\n",
      "  (803549, 87958)\t0.11693734051303543\n",
      "  (803549, 140109)\t0.120103543295262\n",
      "  (803549, 15927)\t0.3971918545672264\n",
      "  (803549, 145768)\t0.09904722720381971\n",
      "  (803549, 190887)\t0.07601507047148022\n",
      "  (803549, 50592)\t0.07296522777036464\n",
      "  (803550, 197099)\t0.560808649742275\n",
      "  (803550, 262487)\t0.5238497549051158\n",
      "  (803550, 177076)\t0.362066215216875\n",
      "  (803550, 105465)\t0.2695576921464045\n",
      "  (803550, 89444)\t0.35271641915432456\n",
      "  (803550, 251516)\t0.28232343865643117\n",
      "  (803550, 78454)\t0.05662510668853176\n",
      "  (803552, 68991)\t0.8151423139857168\n",
      "  (803552, 20085)\t0.5169490259706938\n",
      "  (803552, 296506)\t0.26135552892173886\n",
      "  (803553, 184969)\t0.8738997675094048\n",
      "  (803553, 20085)\t0.4338151822464142\n",
      "  (803553, 296506)\t0.21932529265800316\n",
      "  (803554, 416916)\t0.8738997675094048\n",
      "  (803554, 20085)\t0.4338151822464142\n",
      "  (803554, 296506)\t0.21932529265800316\n",
      "  (803555, 357477)\t0.5583700747444527\n",
      "  (803555, 20085)\t0.6583728596682317\n",
      "  (803555, 190887)\t0.5047455173472561\n"
     ]
    }
   ],
   "source": [
    "print(url_names)"
   ]
  },
  {
   "cell_type": "markdown",
   "id": "a238c442",
   "metadata": {},
   "source": [
    "### Splitting the data for training and testing"
   ]
  },
  {
   "cell_type": "code",
   "execution_count": 50,
   "id": "89a3f118",
   "metadata": {},
   "outputs": [
    {
     "name": "stdout",
     "output_type": "stream",
     "text": [
      "(602667, 466331)\n",
      "(602667,)\n",
      "(200889, 466331)\n",
      "(200889,)\n"
     ]
    }
   ],
   "source": [
    "trainX, testX, trainY, testY = train_test_split(url_names, url_df.Label)\n",
    "print(trainX.shape)\n",
    "print(trainY.shape)\n",
    "print(testX.shape)\n",
    "print(testY.shape)"
   ]
  },
  {
   "cell_type": "markdown",
   "id": "fbcf9efe",
   "metadata": {},
   "source": [
    "# MODELLING"
   ]
  },
  {
   "cell_type": "code",
   "execution_count": 51,
   "id": "a8ed68d0",
   "metadata": {},
   "outputs": [],
   "source": [
    "# An array to store the scores of both models\n",
    "model_scores = []"
   ]
  },
  {
   "cell_type": "markdown",
   "id": "31400db4",
   "metadata": {},
   "source": [
    "## 1. Logistic Regression\n",
    "The first classification algorithm we used is <b>Logistic Regression</b>\n",
    "<br>\n",
    "We will be using two algorithms on this data and will deploy our model with the better performing one."
   ]
  },
  {
   "cell_type": "code",
   "execution_count": 52,
   "id": "fd5c2ce4",
   "metadata": {},
   "outputs": [],
   "source": [
    "logreg = LogisticRegression(max_iter=600)"
   ]
  },
  {
   "cell_type": "code",
   "execution_count": 53,
   "id": "98d4e02f",
   "metadata": {},
   "outputs": [
    {
     "name": "stdout",
     "output_type": "stream",
     "text": [
      "********************************************************\n",
      "Applying Logistic Regression...\n",
      "Model is trained. It took 410.859375 seconds to train the model!\n",
      "********************************************************\n"
     ]
    }
   ],
   "source": [
    "print('********************************************************')\n",
    "print('Applying Logistic Regression...')\n",
    "start = process_time()\n",
    "logreg.fit(trainX, trainY)\n",
    "end = process_time()\n",
    "print(f'Model is trained. It took {end - start} seconds to train the model!')\n",
    "print('********************************************************')"
   ]
  },
  {
   "cell_type": "code",
   "execution_count": 54,
   "id": "e9a52325",
   "metadata": {},
   "outputs": [
    {
     "name": "stdout",
     "output_type": "stream",
     "text": [
      "The model has a 86.56% Training accuracy\n",
      "The model has a 81.80% Testing accuracy\n"
     ]
    }
   ],
   "source": [
    "print(f'The model has a {logreg.score(trainX, trainY) * 100:.2f}% Training accuracy')\n",
    "print(f'The model has a {logreg.score(testX, testY) * 100:.2f}% Testing accuracy')\n",
    "# Appending the logistic regression model score to our list\n",
    "model_scores.append(logreg.score(testX, testY))"
   ]
  },
  {
   "cell_type": "markdown",
   "id": "6d9a1290",
   "metadata": {},
   "source": [
    "### Confusion Matrix for Logistic Regression\n",
    "Using the confusion matrix we can visualise that how accurate our model is"
   ]
  },
  {
   "cell_type": "code",
   "execution_count": 55,
   "id": "5ef26bbd",
   "metadata": {
    "scrolled": false
   },
   "outputs": [
    {
     "name": "stdout",
     "output_type": "stream",
     "text": [
      "Classification Matrix for the model is: \n",
      "\n"
     ]
    },
    {
     "data": {
      "image/png": "[encoded data removed]",
      "text/plain": [
       "<Figure size 800x600 with 2 Axes>"
      ]
     },
     "metadata": {},
     "output_type": "display_data"
    }
   ],
   "source": [
    "conf_mat = pd.DataFrame(confusion_matrix(logreg.predict(testX), testY), columns = ['Prediction: Bad', 'Prediction: Good'], index = ['Actual: Bad', 'Actual: Good'])\n",
    "print('Classification Matrix for the model is: \\n')\n",
    "figure(figsize = (8, 6))\n",
    "sns.heatmap(conf_mat, annot = True, fmt = 'd')\n",
    "plt.show();"
   ]
  },
  {
   "cell_type": "markdown",
   "id": "6e78af22",
   "metadata": {},
   "source": [
    "## 2. Random Forest\n",
    "The Second classification algorithm we used is <b>Random Forest</b>\n",
    "<br>"
   ]
  },
  {
   "cell_type": "code",
   "execution_count": 56,
   "id": "21377501",
   "metadata": {},
   "outputs": [],
   "source": [
    "rf = RandomForestClassifier(n_estimators=1,max_depth=2,random_state=0)"
   ]
  },
  {
   "cell_type": "code",
   "execution_count": null,
   "id": "3695b3be",
   "metadata": {},
   "outputs": [],
   "source": []
  },
  {
   "cell_type": "code",
   "execution_count": null,
   "id": "9d0080bc",
   "metadata": {},
   "outputs": [
    {
     "name": "stdout",
     "output_type": "stream",
     "text": [
      "********************************************************\n",
      "Applying Random forest algorithm ...\n",
      "Model is trained. It took 2.1875 seconds to train the model!\n",
      "********************************************************\n"
     ]
    }
   ],
   "source": [
    "print('********************************************************')\n",
    "print('Applying Random forest algorithm ...')\n",
    "start = process_time()\n",
    "rf.fit(trainX, trainY)\n",
    "end = process_time()\n",
    "print(f'Model is trained. It took {end - start} seconds to train the model!')\n",
    "print('********************************************************')"
   ]
  },
  {
   "cell_type": "code",
   "execution_count": 57,
   "id": "f9692443",
   "metadata": {},
   "outputs": [
    {
     "ename": "NotFittedError",
     "evalue": "This RandomForestClassifier instance is not fitted yet. Call 'fit' with appropriate arguments before using this estimator.",
     "output_type": "error",
     "traceback": [
      "\u001b[1;31m---------------------------------------------------------------------------\u001b[0m",
      "\u001b[1;31mNotFittedError\u001b[0m                            Traceback (most recent call last)",
      "\u001b[1;32m~\\AppData\\Local\\Temp\\ipykernel_18308\\3079476921.py\u001b[0m in \u001b[0;36m<module>\u001b[1;34m\u001b[0m\n\u001b[1;32m----> 1\u001b[1;33m \u001b[0mscore\u001b[0m \u001b[1;33m=\u001b[0m \u001b[0mrf\u001b[0m\u001b[1;33m.\u001b[0m\u001b[0mscore\u001b[0m\u001b[1;33m(\u001b[0m\u001b[0mtrainX\u001b[0m\u001b[1;33m,\u001b[0m\u001b[0mtrainY\u001b[0m\u001b[1;33m)\u001b[0m\u001b[1;33m\u001b[0m\u001b[1;33m\u001b[0m\u001b[0m\n\u001b[0m\u001b[0;32m      2\u001b[0m \u001b[0mprint\u001b[0m\u001b[1;33m(\u001b[0m\u001b[0mscore\u001b[0m\u001b[1;33m)\u001b[0m\u001b[1;33m\u001b[0m\u001b[1;33m\u001b[0m\u001b[0m\n",
      "\u001b[1;32mc:\\Users\\Swaroop\\anaconda3\\lib\\site-packages\\sklearn\\base.py\u001b[0m in \u001b[0;36mscore\u001b[1;34m(self, X, y, sample_weight)\u001b[0m\n\u001b[0;32m    649\u001b[0m         \u001b[1;32mfrom\u001b[0m \u001b[1;33m.\u001b[0m\u001b[0mmetrics\u001b[0m \u001b[1;32mimport\u001b[0m \u001b[0maccuracy_score\u001b[0m\u001b[1;33m\u001b[0m\u001b[1;33m\u001b[0m\u001b[0m\n\u001b[0;32m    650\u001b[0m \u001b[1;33m\u001b[0m\u001b[0m\n\u001b[1;32m--> 651\u001b[1;33m         \u001b[1;32mreturn\u001b[0m \u001b[0maccuracy_score\u001b[0m\u001b[1;33m(\u001b[0m\u001b[0my\u001b[0m\u001b[1;33m,\u001b[0m \u001b[0mself\u001b[0m\u001b[1;33m.\u001b[0m\u001b[0mpredict\u001b[0m\u001b[1;33m(\u001b[0m\u001b[0mX\u001b[0m\u001b[1;33m)\u001b[0m\u001b[1;33m,\u001b[0m \u001b[0msample_weight\u001b[0m\u001b[1;33m=\u001b[0m\u001b[0msample_weight\u001b[0m\u001b[1;33m)\u001b[0m\u001b[1;33m\u001b[0m\u001b[1;33m\u001b[0m\u001b[0m\n\u001b[0m\u001b[0;32m    652\u001b[0m \u001b[1;33m\u001b[0m\u001b[0m\n\u001b[0;32m    653\u001b[0m     \u001b[1;32mdef\u001b[0m \u001b[0m_more_tags\u001b[0m\u001b[1;33m(\u001b[0m\u001b[0mself\u001b[0m\u001b[1;33m)\u001b[0m\u001b[1;33m:\u001b[0m\u001b[1;33m\u001b[0m\u001b[1;33m\u001b[0m\u001b[0m\n",
      "\u001b[1;32mc:\\Users\\Swaroop\\anaconda3\\lib\\site-packages\\sklearn\\ensemble\\_forest.py\u001b[0m in \u001b[0;36mpredict\u001b[1;34m(self, X)\u001b[0m\n\u001b[0;32m    806\u001b[0m             \u001b[0mThe\u001b[0m \u001b[0mpredicted\u001b[0m \u001b[0mclasses\u001b[0m\u001b[1;33m.\u001b[0m\u001b[1;33m\u001b[0m\u001b[1;33m\u001b[0m\u001b[0m\n\u001b[0;32m    807\u001b[0m         \"\"\"\n\u001b[1;32m--> 808\u001b[1;33m         \u001b[0mproba\u001b[0m \u001b[1;33m=\u001b[0m \u001b[0mself\u001b[0m\u001b[1;33m.\u001b[0m\u001b[0mpredict_proba\u001b[0m\u001b[1;33m(\u001b[0m\u001b[0mX\u001b[0m\u001b[1;33m)\u001b[0m\u001b[1;33m\u001b[0m\u001b[1;33m\u001b[0m\u001b[0m\n\u001b[0m\u001b[0;32m    809\u001b[0m \u001b[1;33m\u001b[0m\u001b[0m\n\u001b[0;32m    810\u001b[0m         \u001b[1;32mif\u001b[0m \u001b[0mself\u001b[0m\u001b[1;33m.\u001b[0m\u001b[0mn_outputs_\u001b[0m \u001b[1;33m==\u001b[0m \u001b[1;36m1\u001b[0m\u001b[1;33m:\u001b[0m\u001b[1;33m\u001b[0m\u001b[1;33m\u001b[0m\u001b[0m\n",
      "\u001b[1;32mc:\\Users\\Swaroop\\anaconda3\\lib\\site-packages\\sklearn\\ensemble\\_forest.py\u001b[0m in \u001b[0;36mpredict_proba\u001b[1;34m(self, X)\u001b[0m\n\u001b[0;32m    846\u001b[0m             \u001b[0mclasses\u001b[0m \u001b[0mcorresponds\u001b[0m \u001b[0mto\u001b[0m \u001b[0mthat\u001b[0m \u001b[1;32min\u001b[0m \u001b[0mthe\u001b[0m \u001b[0mattribute\u001b[0m \u001b[1;33m:\u001b[0m\u001b[0mterm\u001b[0m\u001b[1;33m:\u001b[0m\u001b[0;31m`\u001b[0m\u001b[0mclasses_\u001b[0m\u001b[0;31m`\u001b[0m\u001b[1;33m.\u001b[0m\u001b[1;33m\u001b[0m\u001b[1;33m\u001b[0m\u001b[0m\n\u001b[0;32m    847\u001b[0m         \"\"\"\n\u001b[1;32m--> 848\u001b[1;33m         \u001b[0mcheck_is_fitted\u001b[0m\u001b[1;33m(\u001b[0m\u001b[0mself\u001b[0m\u001b[1;33m)\u001b[0m\u001b[1;33m\u001b[0m\u001b[1;33m\u001b[0m\u001b[0m\n\u001b[0m\u001b[0;32m    849\u001b[0m         \u001b[1;31m# Check data\u001b[0m\u001b[1;33m\u001b[0m\u001b[1;33m\u001b[0m\u001b[0m\n\u001b[0;32m    850\u001b[0m         \u001b[0mX\u001b[0m \u001b[1;33m=\u001b[0m \u001b[0mself\u001b[0m\u001b[1;33m.\u001b[0m\u001b[0m_validate_X_predict\u001b[0m\u001b[1;33m(\u001b[0m\u001b[0mX\u001b[0m\u001b[1;33m)\u001b[0m\u001b[1;33m\u001b[0m\u001b[1;33m\u001b[0m\u001b[0m\n",
      "\u001b[1;32mc:\\Users\\Swaroop\\anaconda3\\lib\\site-packages\\sklearn\\utils\\validation.py\u001b[0m in \u001b[0;36mcheck_is_fitted\u001b[1;34m(estimator, attributes, msg, all_or_any)\u001b[0m\n\u001b[0;32m   1220\u001b[0m \u001b[1;33m\u001b[0m\u001b[0m\n\u001b[0;32m   1221\u001b[0m     \u001b[1;32mif\u001b[0m \u001b[1;32mnot\u001b[0m \u001b[0mfitted\u001b[0m\u001b[1;33m:\u001b[0m\u001b[1;33m\u001b[0m\u001b[1;33m\u001b[0m\u001b[0m\n\u001b[1;32m-> 1222\u001b[1;33m         \u001b[1;32mraise\u001b[0m \u001b[0mNotFittedError\u001b[0m\u001b[1;33m(\u001b[0m\u001b[0mmsg\u001b[0m \u001b[1;33m%\u001b[0m \u001b[1;33m{\u001b[0m\u001b[1;34m\"name\"\u001b[0m\u001b[1;33m:\u001b[0m \u001b[0mtype\u001b[0m\u001b[1;33m(\u001b[0m\u001b[0mestimator\u001b[0m\u001b[1;33m)\u001b[0m\u001b[1;33m.\u001b[0m\u001b[0m__name__\u001b[0m\u001b[1;33m}\u001b[0m\u001b[1;33m)\u001b[0m\u001b[1;33m\u001b[0m\u001b[1;33m\u001b[0m\u001b[0m\n\u001b[0m\u001b[0;32m   1223\u001b[0m \u001b[1;33m\u001b[0m\u001b[0m\n\u001b[0;32m   1224\u001b[0m \u001b[1;33m\u001b[0m\u001b[0m\n",
      "\u001b[1;31mNotFittedError\u001b[0m: This RandomForestClassifier instance is not fitted yet. Call 'fit' with appropriate arguments before using this estimator."
     ]
    }
   ],
   "source": [
    "score = rf.score(trainX,trainY)\n",
    "print(score)"
   ]
  },
  {
   "cell_type": "code",
   "execution_count": null,
   "id": "0ce37fec",
   "metadata": {},
   "outputs": [
    {
     "name": "stdout",
     "output_type": "stream",
     "text": [
      "0.7727602523659306\n"
     ]
    }
   ],
   "source": [
    "score = rf.score(testX,testY)\n",
    "print(score)"
   ]
  },
  {
   "cell_type": "markdown",
   "id": "6adafe59",
   "metadata": {},
   "source": [
    "### We implemented our random forest with  estimator trees . It may be not the max accuracy , So we will iterate for 2-5 estimators and check for maximum \n",
    "#### Because of heavy data we can't take more estimator trees as it will take huge time "
   ]
  },
  {
   "cell_type": "code",
   "execution_count": 58,
   "id": "626722b7",
   "metadata": {},
   "outputs": [
    {
     "name": "stdout",
     "output_type": "stream",
     "text": [
      "0.5940228960283209\n",
      "0.5936113984636983\n",
      "0.6050986964379794\n"
     ]
    }
   ],
   "source": [
    "acc_lst = []\n",
    "for i in range(1,4):\n",
    "    acc = cross_val_score(RandomForestClassifier(n_estimators=i,max_depth=2,criterion='entropy'),trainX,trainY,cv=5).mean()\n",
    "    print(acc)\n",
    "    acc_lst.append(acc)"
   ]
  },
  {
   "cell_type": "code",
   "execution_count": null,
   "id": "bc8821e4",
   "metadata": {},
   "outputs": [
    {
     "name": "stdout",
     "output_type": "stream",
     "text": [
      "[0.7771538745096847, 0.7765097992458417, 0.7756002276066764]\n"
     ]
    },
    {
     "data": {
      "image/png": "[encoded data removed]",
      "text/plain": [
       "<Figure size 432x288 with 1 Axes>"
      ]
     },
     "metadata": {
      "needs_background": "light"
     },
     "output_type": "display_data"
    }
   ],
   "source": [
    "print(acc_lst)\n",
    "plt.plot(acc_lst)\n",
    "mx = np.argmax(acc_lst)\n",
    "plt.show()"
   ]
  },
  {
   "cell_type": "markdown",
   "id": "104efeae",
   "metadata": {},
   "source": [
    "### If we calculate this for 20-30 estimator tree tree will be more randomised and we will choose the point where it gave maximum accuracy "
   ]
  },
  {
   "cell_type": "code",
   "execution_count": null,
   "id": "3c05afdb",
   "metadata": {},
   "outputs": [
    {
     "data": {
      "text/html": [
       "<style>#sk-container-id-1 {color: black;background-color: white;}#sk-container-id-1 pre{padding: 0;}#sk-container-id-1 div.sk-toggleable {background-color: white;}#sk-container-id-1 label.sk-toggleable__label {cursor: pointer;display: block;width: 100%;margin-bottom: 0;padding: 0.3em;box-sizing: border-box;text-align: center;}#sk-container-id-1 label.sk-toggleable__label-arrow:before {content: \"▸\";float: left;margin-right: 0.25em;color: #696969;}#sk-container-id-1 label.sk-toggleable__label-arrow:hover:before {color: black;}#sk-container-id-1 div.sk-estimator:hover label.sk-toggleable__label-arrow:before {color: black;}#sk-container-id-1 div.sk-toggleable__content {max-height: 0;max-width: 0;overflow: hidden;text-align: left;background-color: #f0f8ff;}#sk-container-id-1 div.sk-toggleable__content pre {margin: 0.2em;color: black;border-radius: 0.25em;background-color: #f0f8ff;}#sk-container-id-1 input.sk-toggleable__control:checked~div.sk-toggleable__content {max-height: 200px;max-width: 100%;overflow: auto;}#sk-container-id-1 input.sk-toggleable__control:checked~label.sk-toggleable__label-arrow:before {content: \"▾\";}#sk-container-id-1 div.sk-estimator input.sk-toggleable__control:checked~label.sk-toggleable__label {background-color: #d4ebff;}#sk-container-id-1 div.sk-label input.sk-toggleable__control:checked~label.sk-toggleable__label {background-color: #d4ebff;}#sk-container-id-1 input.sk-hidden--visually {border: 0;clip: rect(1px 1px 1px 1px);clip: rect(1px, 1px, 1px, 1px);height: 1px;margin: -1px;overflow: hidden;padding: 0;position: absolute;width: 1px;}#sk-container-id-1 div.sk-estimator {font-family: monospace;background-color: #f0f8ff;border: 1px dotted black;border-radius: 0.25em;box-sizing: border-box;margin-bottom: 0.5em;}#sk-container-id-1 div.sk-estimator:hover {background-color: #d4ebff;}#sk-container-id-1 div.sk-parallel-item::after {content: \"\";width: 100%;border-bottom: 1px solid gray;flex-grow: 1;}#sk-container-id-1 div.sk-label:hover label.sk-toggleable__label {background-color: #d4ebff;}#sk-container-id-1 div.sk-serial::before {content: \"\";position: absolute;border-left: 1px solid gray;box-sizing: border-box;top: 0;bottom: 0;left: 50%;z-index: 0;}#sk-container-id-1 div.sk-serial {display: flex;flex-direction: column;align-items: center;background-color: white;padding-right: 0.2em;padding-left: 0.2em;position: relative;}#sk-container-id-1 div.sk-item {position: relative;z-index: 1;}#sk-container-id-1 div.sk-parallel {display: flex;align-items: stretch;justify-content: center;background-color: white;position: relative;}#sk-container-id-1 div.sk-item::before, #sk-container-id-1 div.sk-parallel-item::before {content: \"\";position: absolute;border-left: 1px solid gray;box-sizing: border-box;top: 0;bottom: 0;left: 50%;z-index: -1;}#sk-container-id-1 div.sk-parallel-item {display: flex;flex-direction: column;z-index: 1;position: relative;background-color: white;}#sk-container-id-1 div.sk-parallel-item:first-child::after {align-self: flex-end;width: 50%;}#sk-container-id-1 div.sk-parallel-item:last-child::after {align-self: flex-start;width: 50%;}#sk-container-id-1 div.sk-parallel-item:only-child::after {width: 0;}#sk-container-id-1 div.sk-dashed-wrapped {border: 1px dashed gray;margin: 0 0.4em 0.5em 0.4em;box-sizing: border-box;padding-bottom: 0.4em;background-color: white;}#sk-container-id-1 div.sk-label label {font-family: monospace;font-weight: bold;display: inline-block;line-height: 1.2em;}#sk-container-id-1 div.sk-label-container {text-align: center;}#sk-container-id-1 div.sk-container {/* jupyter's `normalize.less` sets `[hidden] { display: none; }` but bootstrap.min.css set `[hidden] { display: none !important; }` so we also need the `!important` here to be able to override the default hidden behavior on the sphinx rendered scikit-learn.org. See: https://github.com/scikit-learn/scikit-learn/issues/21755 */display: inline-block !important;position: relative;}#sk-container-id-1 div.sk-text-repr-fallback {display: none;}</style><div id=\"sk-container-id-1\" class=\"sk-top-container\"><div class=\"sk-text-repr-fallback\"><pre>RandomForestClassifier(criterion=&#x27;entropy&#x27;, max_depth=3, n_estimators=2)</pre><b>In a Jupyter environment, please rerun this cell to show the HTML representation or trust the notebook. <br />On GitHub, the HTML representation is unable to render, please try loading this page with nbviewer.org.</b></div><div class=\"sk-container\" hidden><div class=\"sk-item\"><div class=\"sk-estimator sk-toggleable\"><input class=\"sk-toggleable__control sk-hidden--visually\" id=\"sk-estimator-id-1\" type=\"checkbox\" checked><label for=\"sk-estimator-id-1\" class=\"sk-toggleable__label sk-toggleable__label-arrow\">RandomForestClassifier</label><div class=\"sk-toggleable__content\"><pre>RandomForestClassifier(criterion=&#x27;entropy&#x27;, max_depth=3, n_estimators=2)</pre></div></div></div></div></div>"
      ],
      "text/plain": [
       "RandomForestClassifier(criterion='entropy', max_depth=3, n_estimators=2)"
      ]
     },
     "execution_count": 45,
     "metadata": {},
     "output_type": "execute_result"
    }
   ],
   "source": [
    "# We got the maximum n_estimator point now (:\n",
    "# print(mx)\n",
    "rf = RandomForestClassifier(n_estimators = 2,max_depth=3,criterion='entropy')\n",
    "rf.fit(trainX,trainY)"
   ]
  },
  {
   "cell_type": "code",
   "execution_count": null,
   "id": "dd4cf65f",
   "metadata": {},
   "outputs": [
    {
     "name": "stdout",
     "output_type": "stream",
     "text": [
      "The model has a 77.76% Training accuracy\n",
      "The model has a 77.42% Testing accuracy\n"
     ]
    }
   ],
   "source": [
    "print(f'The model has a {rf.score(trainX,trainY) * 100:.2f}% Training accuracy')\n",
    "print(f'The model has a {rf.score(testX,testY) * 100:.2f}% Testing accuracy')"
   ]
  },
  {
   "cell_type": "code",
   "execution_count": null,
   "id": "afe133c8",
   "metadata": {},
   "outputs": [
    {
     "name": "stdout",
     "output_type": "stream",
     "text": [
      "Classification Matrix for the model is: \n",
      "\n"
     ]
    },
    {
     "data": {
      "image/png": "[encoded data removed]",
      "text/plain": [
       "<Figure size 576x432 with 2 Axes>"
      ]
     },
     "metadata": {
      "needs_background": "light"
     },
     "output_type": "display_data"
    }
   ],
   "source": [
    "conf_matRF = pd.DataFrame(confusion_matrix(rf.predict(testX), testY), columns = ['Prediction: Bad', 'Prediction: Good'], index = ['Actual: Bad', 'Actual: Good'])\n",
    "print('Classification Matrix for the model is: \\n')\n",
    "figure(figsize = (8, 6))\n",
    "sns.heatmap(conf_matRF, annot = True, fmt = 'd')\n",
    "plt.show();"
   ]
  },
  {
   "cell_type": "markdown",
   "id": "a4de50c8",
   "metadata": {},
   "source": [
    "### We can see that Logistic Regression performs better than Random Forest Classfier on our dataset so we will dump our model as pickel file"
   ]
  },
  {
   "cell_type": "code",
   "execution_count": 59,
   "id": "ae786032",
   "metadata": {},
   "outputs": [],
   "source": [
    "pipeline_logreg = make_pipeline(TfidfVectorizer(tokenizer = RegexpTokenizer(r'[A-Za-z]+').tokenize), LogisticRegression(max_iter=600))"
   ]
  },
  {
   "cell_type": "code",
   "execution_count": 62,
   "id": "c78ed9c3",
   "metadata": {},
   "outputs": [],
   "source": [
    "trainX, testX, trainY, testY = train_test_split(url_df.URL, url_df.Label)"
   ]
  },
  {
   "cell_type": "code",
   "execution_count": 63,
   "id": "32b58db2",
   "metadata": {},
   "outputs": [
    {
     "name": "stdout",
     "output_type": "stream",
     "text": [
      "*******************************************\n",
      "Training...\n",
      "Process Finished\n",
      "*******************************************\n"
     ]
    }
   ],
   "source": [
    "print('*******************************************')\n",
    "print('Training...')\n",
    "pipeline_logreg.fit(trainX,trainY)\n",
    "print('Process Finished')\n",
    "print('*******************************************')"
   ]
  },
  {
   "cell_type": "code",
   "execution_count": 64,
   "id": "b825d9fc",
   "metadata": {},
   "outputs": [
    {
     "name": "stdout",
     "output_type": "stream",
     "text": [
      "The accuracy is: 0.8186909188656423\n"
     ]
    }
   ],
   "source": [
    "print(f'The accuracy is: {pipeline_logreg.score(testX, testY)}')"
   ]
  },
  {
   "cell_type": "code",
   "execution_count": 65,
   "id": "89b78f9a",
   "metadata": {},
   "outputs": [],
   "source": [
    "pickle.dump(pipeline_logreg,open('logreg.pkl','wb'))"
   ]
  },
  {
   "cell_type": "code",
   "execution_count": 66,
   "id": "5ad62507",
   "metadata": {},
   "outputs": [
    {
     "name": "stdout",
     "output_type": "stream",
     "text": [
      "0.8186909188656423\n"
     ]
    }
   ],
   "source": [
    "loaded_logreg = pickle.load(open('logreg.pkl', 'rb'))\n",
    "res = loaded_logreg.score(testX, testY)\n",
    "print(res)"
   ]
  },
  {
   "cell_type": "code",
   "execution_count": 67,
   "id": "82d808fc",
   "metadata": {},
   "outputs": [
    {
     "name": "stdout",
     "output_type": "stream",
     "text": [
      "['good']\n"
     ]
    }
   ],
   "source": [
    "url = ['stackoverflow.com/questions/']\n",
    "res = loaded_logreg.predict(url)\n",
    "print(res)"
   ]
  }
 ],
 "metadata": {
  "kernelspec": {
   "display_name": "base",
   "language": "python",
   "name": "python3"
  },
  "language_info": {
   "codemirror_mode": {
    "name": "ipython",
    "version": 3
   },
   "file_extension": ".py",
   "mimetype": "text/x-python",
   "name": "python",
   "nbconvert_exporter": "python",
   "pygments_lexer": "ipython3",
   "version": "3.9.13"
  },
  "vscode": {
   "interpreter": {
    "hash": "a76a748293e5fde11f92c956dd4bae866c497723b71fea336cce0c412a37fd91"
   }
  }
 },
 "nbformat": 4,
 "nbformat_minor": 5
}
